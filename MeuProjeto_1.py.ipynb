{
 "cells": [
  {
   "cell_type": "markdown",
   "id": "6e98ed87-adae-4280-970e-72b0512ac9fa",
   "metadata": {},
   "source": [
    "# Projeto 1: Report de Mercado\r\n",
    "Desafio: Automatizar um relatório de fechamento de mercado com Python atráves da coleta de cotações históricas do Ibovespa e Dólar e fazendo o envio diario através do email automaticamente."
   ]
  },
  {
   "cell_type": "code",
   "execution_count": 2,
   "id": "772777ab-25b1-484d-9f81-e0a0afb82eda",
   "metadata": {},
   "outputs": [
    {
     "name": "stdout",
     "output_type": "stream",
     "text": [
      "Collecting mplcyberpunk\n",
      "  Downloading mplcyberpunk-0.7.1-py3-none-any.whl.metadata (546 bytes)\n",
      "Requirement already satisfied: matplotlib in c:\\users\\camila\\anaconda3\\lib\\site-packages (from mplcyberpunk) (3.8.4)\n",
      "Requirement already satisfied: contourpy>=1.0.1 in c:\\users\\camila\\anaconda3\\lib\\site-packages (from matplotlib->mplcyberpunk) (1.2.0)\n",
      "Requirement already satisfied: cycler>=0.10 in c:\\users\\camila\\anaconda3\\lib\\site-packages (from matplotlib->mplcyberpunk) (0.11.0)\n",
      "Requirement already satisfied: fonttools>=4.22.0 in c:\\users\\camila\\anaconda3\\lib\\site-packages (from matplotlib->mplcyberpunk) (4.51.0)\n",
      "Requirement already satisfied: kiwisolver>=1.3.1 in c:\\users\\camila\\anaconda3\\lib\\site-packages (from matplotlib->mplcyberpunk) (1.4.4)\n",
      "Requirement already satisfied: numpy>=1.21 in c:\\users\\camila\\anaconda3\\lib\\site-packages (from matplotlib->mplcyberpunk) (1.26.4)\n",
      "Requirement already satisfied: packaging>=20.0 in c:\\users\\camila\\anaconda3\\lib\\site-packages (from matplotlib->mplcyberpunk) (23.2)\n",
      "Requirement already satisfied: pillow>=8 in c:\\users\\camila\\anaconda3\\lib\\site-packages (from matplotlib->mplcyberpunk) (10.3.0)\n",
      "Requirement already satisfied: pyparsing>=2.3.1 in c:\\users\\camila\\anaconda3\\lib\\site-packages (from matplotlib->mplcyberpunk) (3.0.9)\n",
      "Requirement already satisfied: python-dateutil>=2.7 in c:\\users\\camila\\anaconda3\\lib\\site-packages (from matplotlib->mplcyberpunk) (2.9.0.post0)\n",
      "Requirement already satisfied: six>=1.5 in c:\\users\\camila\\anaconda3\\lib\\site-packages (from python-dateutil>=2.7->matplotlib->mplcyberpunk) (1.16.0)\n",
      "Downloading mplcyberpunk-0.7.1-py3-none-any.whl (6.4 kB)\n",
      "Installing collected packages: mplcyberpunk\n",
      "Successfully installed mplcyberpunk-0.7.1\n"
     ]
    }
   ],
   "source": [
    "#Biblioteca para Visualização de gráficos\n",
    "!pip install mplcyberpunk"
   ]
  },
  {
   "cell_type": "code",
   "execution_count": 3,
   "id": "fa8c3903-4b7f-43ee-b6c3-af7f0b38eab0",
   "metadata": {},
   "outputs": [
    {
     "name": "stdout",
     "output_type": "stream",
     "text": [
      "Collecting yfinance==0.2.40\n",
      "  Downloading yfinance-0.2.40-py2.py3-none-any.whl.metadata (11 kB)\n",
      "Requirement already satisfied: pandas>=1.3.0 in c:\\users\\camila\\anaconda3\\lib\\site-packages (from yfinance==0.2.40) (2.2.2)\n",
      "Requirement already satisfied: numpy>=1.16.5 in c:\\users\\camila\\anaconda3\\lib\\site-packages (from yfinance==0.2.40) (1.26.4)\n",
      "Requirement already satisfied: requests>=2.31 in c:\\users\\camila\\anaconda3\\lib\\site-packages (from yfinance==0.2.40) (2.32.2)\n",
      "Collecting multitasking>=0.0.7 (from yfinance==0.2.40)\n",
      "  Downloading multitasking-0.0.11-py3-none-any.whl.metadata (5.5 kB)\n",
      "Requirement already satisfied: lxml>=4.9.1 in c:\\users\\camila\\anaconda3\\lib\\site-packages (from yfinance==0.2.40) (5.2.1)\n",
      "Requirement already satisfied: platformdirs>=2.0.0 in c:\\users\\camila\\anaconda3\\lib\\site-packages (from yfinance==0.2.40) (3.10.0)\n",
      "Requirement already satisfied: pytz>=2022.5 in c:\\users\\camila\\anaconda3\\lib\\site-packages (from yfinance==0.2.40) (2024.1)\n",
      "Requirement already satisfied: frozendict>=2.3.4 in c:\\users\\camila\\anaconda3\\lib\\site-packages (from yfinance==0.2.40) (2.4.2)\n",
      "Collecting peewee>=3.16.2 (from yfinance==0.2.40)\n",
      "  Downloading peewee-3.17.6.tar.gz (3.0 MB)\n",
      "     ---------------------------------------- 0.0/3.0 MB ? eta -:--:--\n",
      "     ---------------------------------------- 0.0/3.0 MB ? eta -:--:--\n",
      "     ---------------------------------------- 0.0/3.0 MB 330.3 kB/s eta 0:00:09\n",
      "      --------------------------------------- 0.0/3.0 MB 393.8 kB/s eta 0:00:08\n",
      "     --- ------------------------------------ 0.3/3.0 MB 2.0 MB/s eta 0:00:02\n",
      "     --------- ------------------------------ 0.7/3.0 MB 4.3 MB/s eta 0:00:01\n",
      "     ---------------- ----------------------- 1.2/3.0 MB 5.5 MB/s eta 0:00:01\n",
      "     ----------------------- ---------------- 1.8/3.0 MB 6.6 MB/s eta 0:00:01\n",
      "     -------------------------------- ------- 2.4/3.0 MB 7.6 MB/s eta 0:00:01\n",
      "     ---------------------------------------  2.9/3.0 MB 8.5 MB/s eta 0:00:01\n",
      "     ---------------------------------------- 3.0/3.0 MB 7.9 MB/s eta 0:00:00\n",
      "  Installing build dependencies: started\n",
      "  Installing build dependencies: finished with status 'done'\n",
      "  Getting requirements to build wheel: started\n",
      "  Getting requirements to build wheel: finished with status 'done'\n",
      "  Preparing metadata (pyproject.toml): started\n",
      "  Preparing metadata (pyproject.toml): finished with status 'done'\n",
      "Requirement already satisfied: beautifulsoup4>=4.11.1 in c:\\users\\camila\\anaconda3\\lib\\site-packages (from yfinance==0.2.40) (4.12.3)\n",
      "Collecting html5lib>=1.1 (from yfinance==0.2.40)\n",
      "  Downloading html5lib-1.1-py2.py3-none-any.whl.metadata (16 kB)\n",
      "Requirement already satisfied: soupsieve>1.2 in c:\\users\\camila\\anaconda3\\lib\\site-packages (from beautifulsoup4>=4.11.1->yfinance==0.2.40) (2.5)\n",
      "Requirement already satisfied: six>=1.9 in c:\\users\\camila\\anaconda3\\lib\\site-packages (from html5lib>=1.1->yfinance==0.2.40) (1.16.0)\n",
      "Requirement already satisfied: webencodings in c:\\users\\camila\\anaconda3\\lib\\site-packages (from html5lib>=1.1->yfinance==0.2.40) (0.5.1)\n",
      "Requirement already satisfied: python-dateutil>=2.8.2 in c:\\users\\camila\\anaconda3\\lib\\site-packages (from pandas>=1.3.0->yfinance==0.2.40) (2.9.0.post0)\n",
      "Requirement already satisfied: tzdata>=2022.7 in c:\\users\\camila\\anaconda3\\lib\\site-packages (from pandas>=1.3.0->yfinance==0.2.40) (2023.3)\n",
      "Requirement already satisfied: charset-normalizer<4,>=2 in c:\\users\\camila\\anaconda3\\lib\\site-packages (from requests>=2.31->yfinance==0.2.40) (2.0.4)\n",
      "Requirement already satisfied: idna<4,>=2.5 in c:\\users\\camila\\anaconda3\\lib\\site-packages (from requests>=2.31->yfinance==0.2.40) (3.7)\n",
      "Requirement already satisfied: urllib3<3,>=1.21.1 in c:\\users\\camila\\anaconda3\\lib\\site-packages (from requests>=2.31->yfinance==0.2.40) (2.2.2)\n",
      "Requirement already satisfied: certifi>=2017.4.17 in c:\\users\\camila\\anaconda3\\lib\\site-packages (from requests>=2.31->yfinance==0.2.40) (2024.6.2)\n",
      "Downloading yfinance-0.2.40-py2.py3-none-any.whl (73 kB)\n",
      "   ---------------------------------------- 0.0/73.5 kB ? eta -:--:--\n",
      "   ---------------------------------------- 73.5/73.5 kB ? eta 0:00:00\n",
      "Downloading html5lib-1.1-py2.py3-none-any.whl (112 kB)\n",
      "   ---------------------------------------- 0.0/112.2 kB ? eta -:--:--\n",
      "   ---------------------------------------- 112.2/112.2 kB 6.4 MB/s eta 0:00:00\n",
      "Downloading multitasking-0.0.11-py3-none-any.whl (8.5 kB)\n",
      "Building wheels for collected packages: peewee\n",
      "  Building wheel for peewee (pyproject.toml): started\n",
      "  Building wheel for peewee (pyproject.toml): finished with status 'done'\n",
      "  Created wheel for peewee: filename=peewee-3.17.6-py3-none-any.whl size=138939 sha256=40982e7075d60ecebe8c740ed295ca04f4bb98e34877e9c8d99a1c19c504e40b\n",
      "  Stored in directory: c:\\users\\camila\\appdata\\local\\pip\\cache\\wheels\\a6\\5e\\0f\\8319805c4115320e0d3e8fb5799b114a2e4c4a3d6c7e523b06\n",
      "Successfully built peewee\n",
      "Installing collected packages: peewee, multitasking, html5lib, yfinance\n",
      "Successfully installed html5lib-1.1 multitasking-0.0.11 peewee-3.17.6 yfinance-0.2.40\n"
     ]
    }
   ],
   "source": [
    "# yfinance é uma biblioteca  que permite baixar dados financeiros históricos e atuais de ações, ETFs, índices e outros instrumentos financeiros usando a API do Yahoo Finance.\n",
    "!pip install yfinance==0.2.40"
   ]
  },
  {
   "cell_type": "code",
   "execution_count": null,
   "id": "cd45c4f7-339f-4806-baad-473017d53346",
   "metadata": {},
   "outputs": [],
   "source": [
    "# Renomeando\n",
    "import yfinance as yf\n",
    "import pandas as pd\n",
    "import matplotlib.pyplot as plt\n",
    "import mplcyberpunk"
   ]
  },
  {
   "cell_type": "markdown",
   "id": "d155a362-cdb1-4e99-8fef-f8439d9931dd",
   "metadata": {},
   "source": [
    "# Passo 2- Coleta Cotações Históricas"
   ]
  },
  {
   "cell_type": "code",
   "execution_count": null,
   "id": "71059d65-4f41-4d55-8f3f-8eebbf78af97",
   "metadata": {},
   "outputs": [],
   "source": [
    "#Pegando as Cotações Históricas\n",
    "#Para pegar os tickers, vá para o site yfinance, copie e cole o nome dos tickers desejados\n",
    "tickers = [\"^BVSP\", \"^GSPC\", \"USDBRL=X\"]"
   ]
  },
  {
   "cell_type": "code",
   "execution_count": null,
   "id": "fa6b4010-2f45-4316-b408-1d495c27d368",
   "metadata": {},
   "outputs": [],
   "source": [
    "#Pegando os dados históricos de 6 meses\n",
    "dados_mercado = yf.download(tickers, period = \"6mo\")\n",
    "dados_mercado = dados_mercado[\"Adj Close\"]\n",
    "dados_mercado"
   ]
  },
  {
   "cell_type": "markdown",
   "id": "332f10d4-2128-46e3-9aef-915ede5609c1",
   "metadata": {},
   "source": [
    "# Passo 3- Tratando os Dados Coletados"
   ]
  },
  {
   "cell_type": "code",
   "execution_count": null,
   "id": "022a0bec-1cce-4f7a-b2e5-d5cbc3dfa8e5",
   "metadata": {},
   "outputs": [],
   "source": [
    "#Manipulando com a função dropna, tira os dadas faltantes da tabela\n",
    "dados_mercado = dados_mercado.dropna()\n",
    "\n",
    "dados_mercado"
   ]
  },
  {
   "cell_type": "code",
   "execution_count": null,
   "id": "bd2ec094-7be3-46fb-bbea-e88b37390a1f",
   "metadata": {},
   "outputs": [],
   "source": [
    "#Renomeando\n",
    "dados_mercado.columns = [\"DOLAR\", \"IBOVESPA\", \"S&P500\"]\n",
    "\n",
    "dados_mercado"
   ]
  },
  {
   "cell_type": "markdown",
   "id": "505693b3-ea3d-4784-a0d3-66a08f6a4e2f",
   "metadata": {},
   "source": [
    "# Passo 4 - Criar gráficos de performance."
   ]
  },
  {
   "cell_type": "code",
   "execution_count": null,
   "id": "1f100b7f-6627-491f-8e90-130a4443f8ae",
   "metadata": {},
   "outputs": [],
   "source": [
    "#Habilitando o tema\n",
    "plt.style.use(\"cyberpunk\")"
   ]
  },
  {
   "cell_type": "code",
   "execution_count": null,
   "id": "7e538a85-3acc-4ad7-bdd2-2f7b942acac8",
   "metadata": {},
   "outputs": [],
   "source": [
    "plt.plot(dados_mercado[\"IBOVESPA\"])\n",
    "plt.title(\"IBOVESPA\")\n",
    "\n",
    "#Caso queira dodar no vscode, colocar o comando\n",
    "# plt.show()\n",
    "\n",
    "#Para salvar o grafico\n",
    "plt.savefig(\"IBOVESPA.png\""
   ]
  },
  {
   "cell_type": "code",
   "execution_count": null,
   "id": "3e0e8f02-c247-44c8-8b5b-f0b84ef49c86",
   "metadata": {},
   "outputs": [],
   "source": [
    "plt.plot(dados_mercado[\"DOLAR\"])\n",
    "plt.title(\"DOLAR\")\n",
    "\n",
    "#Caso queira dodar no vscode, colocar o comando\n",
    "# plt.show()\n",
    "\n",
    "#Para salvar o grafico\n",
    "plt.savefig(\"DOLAR.png\")"
   ]
  },
  {
   "cell_type": "code",
   "execution_count": null,
   "id": "9fdb9c11-f482-45d2-8b5d-941406cc993f",
   "metadata": {},
   "outputs": [],
   "source": [
    "plt.plot(dados_mercado[\"S&P500\"])\n",
    "plt.title(\"S&P500\")\n",
    "\n",
    "#Caso queira dodar no vscode, colocar o comando\n",
    "# plt.show()\n",
    "\n",
    "#Para salvar o grafico\n",
    "plt.savefig(\"S&P500.png\")"
   ]
  },
  {
   "cell_type": "code",
   "execution_count": 1,
   "id": "0dbd6969-f2a5-4edf-bf12-2494031cb227",
   "metadata": {},
   "outputs": [],
   "source": [
    "# Caso queira um gráfico Interativo, pode usar a biblioteca Plotly"
   ]
  },
  {
   "cell_type": "markdown",
   "id": "4890395e-df1f-4820-ade7-77bfd38061b1",
   "metadata": {},
   "source": [
    "# 5 Calcular Retornos Diários"
   ]
  },
  {
   "cell_type": "code",
   "execution_count": null,
   "id": "bf33a392-61d5-4eef-a8dd-4109d1969227",
   "metadata": {},
   "outputs": [],
   "source": [
    "retorno_diarios = dados_mercado.pct_change()\n",
    "retorno_diarios"
   ]
  },
  {
   "cell_type": "code",
   "execution_count": null,
   "id": "6b25eaf8-9089-4024-9ed6-ee7663d7172c",
   "metadata": {},
   "outputs": [],
   "source": [
    "retornos_diarios[\"DOLAR\"].iloc[-3]"
   ]
  },
  {
   "cell_type": "code",
   "execution_count": null,
   "id": "b79de33a-5438-4199-994f-1fdd32c31e8e",
   "metadata": {},
   "outputs": [],
   "source": [
    "retorno_dolar = retornos_diarios[\"DOLAR\"].iloc[-1]\n",
    "retorno_ibovespa = retornos_diarios[\"IBOVESPA\"].iloc[-1]\n",
    "retorno_sp = retornos_diarios[\"S&P500\"].iloc[-1]\n"
   ]
  },
  {
   "cell_type": "code",
   "execution_count": null,
   "id": "38ebaf39-2cdf-4126-ae8a-d6c6dd1cda5c",
   "metadata": {},
   "outputs": [],
   "source": [
    "#Transformando em porcentagem\n",
    "retorno_dolar = str(round(retorno_dolar * 100, 2)) + \"%\"\n",
    "\n",
    "retorno_dolar"
   ]
  },
  {
   "cell_type": "code",
   "execution_count": null,
   "id": "24e94d1e-6e40-46fd-a841-f62bf86b04cf",
   "metadata": {},
   "outputs": [],
   "source": [
    "retorno_ibovespa = str(round(retorno_ibovespa * 100, 2)) + \"%\"\n",
    "retorno_sp = str(round(retorno_sp * 100, 2)) + \"%\"\n",
    "\n",
    "retorno_sp"
   ]
  },
  {
   "cell_type": "code",
   "execution_count": null,
   "id": "ed1212e1-3f55-4659-bb05-ebfce1f7336d",
   "metadata": {},
   "outputs": [],
   "source": [
    "retorno_ibovespa"
   ]
  },
  {
   "cell_type": "markdown",
   "id": "16df2d9c-911c-4429-abb3-807faabe42e6",
   "metadata": {},
   "source": [
    "# Passo 6 - Configurar e enviar o e-mail\r\n"
   ]
  },
  {
   "cell_type": "code",
   "execution_count": null,
   "id": "75cf91fc-85f7-4466-abb0-cfa3425925e0",
   "metadata": {},
   "outputs": [],
   "source": [
    "# Caso queira mandar para E-mail, pesquisar sobre \n",
    "### smtlib  ###"
   ]
  },
  {
   "cell_type": "code",
   "execution_count": 1,
   "id": "fb000661-aa71-404e-9ddb-b1b9d11101aa",
   "metadata": {},
   "outputs": [
    {
     "name": "stdout",
     "output_type": "stream",
     "text": [
      "Requirement already satisfied: pywin32 in c:\\users\\camila\\anaconda3\\lib\\site-packages (305.1)\n"
     ]
    }
   ],
   "source": [
    "!pip install pywin32"
   ]
  },
  {
   "cell_type": "code",
   "execution_count": null,
   "id": "089e9a2e-3e67-4450-9c1d-2abe18a7c5b8",
   "metadata": {},
   "outputs": [],
   "source": [
    "import win32com.client as win32"
   ]
  },
  {
   "cell_type": "code",
   "execution_count": null,
   "id": "4a53dd72-aba5-49de-8d18-0c1bbc9b1fb6",
   "metadata": {},
   "outputs": [],
   "source": [
    "outlook = win32.Dispatch(\"outlook.application\") \n",
    "\n",
    "email = outlook.CreateItem(0)"
   ]
  },
  {
   "cell_type": "code",
   "execution_count": null,
   "id": "0fe5ba5b-21e3-442e-8b01-f95b6bb7aace",
   "metadata": {},
   "outputs": [],
   "source": [
    "email.To = \"fulano@outlook.com.br\"\n",
    "email.Subject = \"Relatório de Mercado\"\n",
    "email.Body = f'''Prezado Gerente, segue o relatório de mercado:\n",
    "\n",
    "* O Ibovespa teve o retorno de {retorno_ibovespa}.\n",
    "* O Dólar teve o retorno de {retorno_dolar}.\n",
    "* O S&P500 teve o retorno de {retorno_sp}.\n",
    "\n",
    "Segue em anexo a peformance dos ativos nos últimos 6 meses.\n",
    "\n",
    "Att,\n",
    "Melhor estagiária do mundo :)\n",
    "\n",
    "\n",
    "'''\n",
    "\n",
    "anexo_ibovespa = r\"C:\\Users\\Camila\\Downloads\\ibovespa.png\"\n",
    "anexo_dolar = r\"C:\\Users\\Camila\\Downloads\\dolar.png\"\n",
    "anexo_sp = r\"C:\\Users\\Camila\\Downloads\\sp500.png\"\n",
    "\n",
    "email.Attachments.Add(anexo_ibovespa)\n",
    "email.Attachments.Add(anexo_dolar)\n",
    "email.Attachments.Add(anexo_sp)\n",
    "\n",
    "email.Send()"
   ]
  }
 ],
 "metadata": {
  "kernelspec": {
   "display_name": "Python 3 (ipykernel)",
   "language": "python",
   "name": "python3"
  },
  "language_info": {
   "codemirror_mode": {
    "name": "ipython",
    "version": 3
   },
   "file_extension": ".py",
   "mimetype": "text/x-python",
   "name": "python",
   "nbconvert_exporter": "python",
   "pygments_lexer": "ipython3",
   "version": "3.12.4"
  }
 },
 "nbformat": 4,
 "nbformat_minor": 5
}
